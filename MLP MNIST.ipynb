{
 "cells": [
  {
   "cell_type": "code",
   "id": "initial_id",
   "metadata": {
    "collapsed": true,
    "ExecuteTime": {
     "end_time": "2025-04-07T10:19:45.244580Z",
     "start_time": "2025-04-07T10:19:39.754655Z"
    }
   },
   "source": [
    "import torch\n",
    "import torch.nn as nn\n",
    "import torch.optim as optim\n",
    "from torch.utils.data import DataLoader, TensorDataset\n",
    "from torchvision import datasets, transforms\n",
    "import numpy as np\n",
    "import matplotlib.pyplot as plt\n",
    "import time"
   ],
   "outputs": [],
   "execution_count": 1
  },
  {
   "metadata": {},
   "cell_type": "markdown",
   "source": "*1. Загрузка данных*",
   "id": "ab02370dfa7fe504"
  },
  {
   "metadata": {
    "ExecuteTime": {
     "end_time": "2025-04-07T11:25:01.409120Z",
     "start_time": "2025-04-07T11:25:01.349466Z"
    }
   },
   "cell_type": "code",
   "source": [
    "# Загрузка датасета\n",
    "train_dataset = datasets.MNIST(root='./data', train=True, download=True, transform=transforms.ToTensor())\n",
    "test_dataset = datasets.MNIST(root='./data', train=False, download=True, transform=transforms.ToTensor())"
   ],
   "id": "3349bab0c8620f34",
   "outputs": [],
   "execution_count": 47
  },
  {
   "metadata": {
    "ExecuteTime": {
     "end_time": "2025-04-07T11:25:02.808616Z",
     "start_time": "2025-04-07T11:25:02.800993Z"
    }
   },
   "cell_type": "code",
   "source": [
    "# Изучим исходные данные\n",
    "print(train_dataset)\n",
    "print(test_dataset)"
   ],
   "id": "c5217fa0a5a38c8d",
   "outputs": [
    {
     "name": "stdout",
     "output_type": "stream",
     "text": [
      "Dataset MNIST\n",
      "    Number of datapoints: 60000\n",
      "    Root location: ./data\n",
      "    Split: Train\n",
      "    StandardTransform\n",
      "Transform: ToTensor()\n",
      "Dataset MNIST\n",
      "    Number of datapoints: 10000\n",
      "    Root location: ./data\n",
      "    Split: Test\n",
      "    StandardTransform\n",
      "Transform: ToTensor()\n"
     ]
    }
   ],
   "execution_count": 48
  },
  {
   "metadata": {
    "ExecuteTime": {
     "end_time": "2025-04-07T11:25:03.298390Z",
     "start_time": "2025-04-07T11:25:03.292801Z"
    }
   },
   "cell_type": "code",
   "source": [
    "print(train_dataset.data.shape)\n",
    "print(train_dataset.targets.shape)"
   ],
   "id": "39a39ba2912a87ea",
   "outputs": [
    {
     "name": "stdout",
     "output_type": "stream",
     "text": [
      "torch.Size([60000, 28, 28])\n",
      "torch.Size([60000])\n"
     ]
    }
   ],
   "execution_count": 49
  },
  {
   "metadata": {
    "ExecuteTime": {
     "end_time": "2025-04-07T11:25:03.574259Z",
     "start_time": "2025-04-07T11:25:03.567933Z"
    }
   },
   "cell_type": "code",
   "source": [
    "print(test_dataset.data.shape)\n",
    "print(test_dataset.targets.shape)"
   ],
   "id": "df7888ce1e077397",
   "outputs": [
    {
     "name": "stdout",
     "output_type": "stream",
     "text": [
      "torch.Size([10000, 28, 28])\n",
      "torch.Size([10000])\n"
     ]
    }
   ],
   "execution_count": 50
  },
  {
   "metadata": {
    "ExecuteTime": {
     "end_time": "2025-04-07T11:25:04.859841Z",
     "start_time": "2025-04-07T11:25:03.779658Z"
    }
   },
   "cell_type": "code",
   "source": [
    "# Посмотрим на сами данные\n",
    "fig, axes = plt.subplots(1, 5, figsize = (10, 3))\n",
    "\n",
    "# id изображения, само изображения, целевая переменная\n",
    "for ax, image, label in zip(axes, train_dataset.data, train_dataset.targets):\n",
    "\n",
    "    ax.imshow(image, cmap = 'gray')\n",
    "    # укажем, какой цифре соответствует изображение\n",
    "    ax.set_title(f'Target: {label}')"
   ],
   "id": "86293dbf45eb520c",
   "outputs": [
    {
     "data": {
      "text/plain": [
       "<Figure size 1000x300 with 5 Axes>"
      ],
      "image/png": "[encoded data removed]"
     },
     "metadata": {},
     "output_type": "display_data"
    }
   ],
   "execution_count": 51
  },
  {
   "metadata": {},
   "cell_type": "markdown",
   "source": "2. *Нормализация данных*",
   "id": "305c6ed524c3f202"
  },
  {
   "metadata": {
    "ExecuteTime": {
     "end_time": "2025-04-07T11:25:05.065098Z",
     "start_time": "2025-04-07T11:25:05.032255Z"
    }
   },
   "cell_type": "code",
   "source": [
    "# Разделим исходные данные\n",
    "X_train, y_train = train_dataset.data.numpy(), train_dataset.targets.numpy()\n",
    "X_test, y_test = test_dataset.data.numpy(), test_dataset.targets.numpy()"
   ],
   "id": "a1e100f92e32bff6",
   "outputs": [],
   "execution_count": 52
  },
  {
   "metadata": {
    "ExecuteTime": {
     "end_time": "2025-04-07T11:25:06.126715Z",
     "start_time": "2025-04-07T11:25:05.469455Z"
    }
   },
   "cell_type": "code",
   "source": [
    "# Приведём распредение данных к интервалу [-1, 1]\n",
    "X_train = 2. * (X_train - np.min(X_train)) / np.ptp(X_train) - 1\n",
    "X_test = 2. * (X_test - np.min(X_test)) / np.ptp(X_test) - 1"
   ],
   "id": "96e5cc4d574ce002",
   "outputs": [],
   "execution_count": 53
  },
  {
   "metadata": {
    "ExecuteTime": {
     "end_time": "2025-04-07T11:25:06.133819Z",
     "start_time": "2025-04-07T11:25:06.128738Z"
    }
   },
   "cell_type": "code",
   "source": [
    "# Вытянем изображения в один вектор\n",
    "X_train = X_train.reshape((-1, 784))\n",
    "X_test = X_test.reshape((-1, 784))\n",
    "\n",
    "# посмотрим на результат\n",
    "print(X_train.shape)\n",
    "print(X_test.shape)"
   ],
   "id": "1a86bd2bc74a57f9",
   "outputs": [
    {
     "name": "stdout",
     "output_type": "stream",
     "text": [
      "(60000, 784)\n",
      "(10000, 784)\n"
     ]
    }
   ],
   "execution_count": 54
  },
  {
   "metadata": {
    "ExecuteTime": {
     "end_time": "2025-04-07T11:57:52.934697Z",
     "start_time": "2025-04-07T11:57:52.926508Z"
    }
   },
   "cell_type": "code",
   "source": [
    "# Посмотим на итог нормализации\n",
    "# Возмём первое изображение [0] и пиксели с 200 по 209\n",
    "X_train[0][200:210]"
   ],
   "id": "ece5f82ab0e3ba94",
   "outputs": [
    {
     "data": {
      "text/plain": [
       "array([-1.        , -1.        , -1.        , -0.61568627,  0.86666667,\n",
       "        0.98431373,  0.98431373,  0.98431373,  0.98431373,  0.98431373])"
      ]
     },
     "execution_count": 94,
     "metadata": {},
     "output_type": "execute_result"
    }
   ],
   "execution_count": 94
  },
  {
   "metadata": {
    "ExecuteTime": {
     "end_time": "2025-04-07T11:57:53.322648Z",
     "start_time": "2025-04-07T11:57:53.257902Z"
    }
   },
   "cell_type": "code",
   "source": [
    "# Преобразование в тензоры PyTorch\n",
    "X_train_tensor = torch.FloatTensor(X_train)\n",
    "y_train_tensor = torch.LongTensor(y_train)\n",
    "X_test_tensor = torch.FloatTensor(X_test)\n",
    "y_test_tensor = torch.LongTensor(y_test)"
   ],
   "id": "212dc36ce2dc922c",
   "outputs": [],
   "execution_count": 95
  },
  {
   "metadata": {},
   "cell_type": "markdown",
   "source": [
    "*3. Конфигурация Многослойного Перцептрона* \n",
    "\n",
    "* Создадим многослойный Перцептрон:\n",
    "* Входной слой: 64 наблюдения * 784 признака\n",
    "* 2 скрытых слоя по 64 нейрона - функция активации: ReLu\n",
    "* Выходной слой: 10 неиронов, по одной а каждую цифру - функция активации: SoftMax (включено в CrossEntropyLoss)"
   ],
   "id": "1b776f9f23b4fb9a"
  },
  {
   "metadata": {},
   "cell_type": "code",
   "outputs": [],
   "execution_count": null,
   "source": [
    "# Определение модели\n",
    "class MLP(nn.Module):\n",
    "    def __init__(self):\n",
    "        super(MLP, self).__init__()\n",
    "        self.fc1 = nn.Linear(784, 64)\n",
    "        self.fc2 = nn.Linear(64, 64)\n",
    "        self.fc3 = nn.Linear(64, 10)\n",
    "        \n",
    "        # Инициализация весов Glorot Uniform\n",
    "        nn.init.xavier_uniform_(self.fc1.weight)\n",
    "        nn.init.xavier_uniform_(self.fc2.weight)\n",
    "        nn.init.xavier_uniform_(self.fc3.weight)\n",
    "        \n",
    "    def forward(self, x):\n",
    "        x = torch.relu(self.fc1(x))\n",
    "        x = torch.relu(self.fc2(x))\n",
    "        return self.fc3(x)"
   ],
   "id": "f6c85966a95ff596"
  },
  {
   "metadata": {},
   "cell_type": "code",
   "outputs": [],
   "execution_count": null,
   "source": [
    "# Выберем размер выборки\n",
    "batch_size = 64"
   ],
   "id": "caeff0609278037d"
  },
  {
   "metadata": {},
   "cell_type": "code",
   "outputs": [],
   "execution_count": null,
   "source": [
    "train_dataset = TensorDataset(X_train_tensor, y_train_tensor)\n",
    "train_loader = DataLoader(train_dataset, batch_size=batch_size, shuffle=True)"
   ],
   "id": "a6b15fd19198d2b0"
  },
  {
   "metadata": {
    "ExecuteTime": {
     "end_time": "2025-04-07T12:48:00.136202Z",
     "start_time": "2025-04-07T12:48:00.130684Z"
    }
   },
   "cell_type": "code",
   "source": [
    "# Инициализация и настройка модели\n",
    "model = MLP()\n",
    "criterion = nn.CrossEntropyLoss()\n",
    "optimizer = optim.SGD(model.parameters(), lr=0.1)"
   ],
   "id": "42b91ff4d92ca7cd",
   "outputs": [],
   "execution_count": 159
  },
  {
   "metadata": {},
   "cell_type": "markdown",
   "source": "*4. Обучение*",
   "id": "8ae1abfab722ad63"
  },
  {
   "metadata": {},
   "cell_type": "code",
   "outputs": [],
   "execution_count": null,
   "source": [
    "# for size_idx, batch in enumerate(batch_sizes):\n",
    "#     # Обновим загрузчик данных\n",
    "#     train_dataset = TensorDataset(X_train_tensor, y_train_tensor)\n",
    "#     train_loader = DataLoader(train_dataset, batch_size=batch_size, shuffle=True)"
   ],
   "id": "91c27da84c8a3e4a"
  },
  {
   "metadata": {
    "ExecuteTime": {
     "end_time": "2025-04-07T12:48:32.325221Z",
     "start_time": "2025-04-07T12:48:00.692463Z"
    }
   },
   "cell_type": "code",
   "source": [
    "train_correct = []\n",
    "test_correct = []\n",
    "\n",
    "num_epochs = 10\n",
    "for epoch in range(1, num_epochs + 1):\n",
    "    start_time = time.time()\n",
    "    running_loss = 0.0\n",
    "    correct = 0\n",
    "    total = 0\n",
    "    \n",
    "    for b, (batch, labels) in enumerate(train_loader):\n",
    "        \n",
    "        # Прямой проход\n",
    "        predictions = model(batch)\n",
    "        loss = criterion(predictions, labels)\n",
    "        \n",
    "        # Обратный проход\n",
    "        loss.backward()\n",
    "        optimizer.step()\n",
    "        optimizer.zero_grad()\n",
    "        \n",
    "        # Считаем результат\n",
    "        running_loss += loss.item()\n",
    "        predicted = torch.max(predictions.data, 1)[1]\n",
    "        total += labels.size(0)\n",
    "        batch_correct = (predicted == labels).sum().item()\n",
    "        correct += batch_correct\n",
    "        \n",
    "        if b % 100 == 0 and b != 0:\n",
    "            print(f'Epoch: {epoch} Batch: {b} [{batch_size * b:6}/60000] Train loss: {loss.item():10.8f} Train accuracy: {batch_correct / batch_size:7.4f}')\n",
    "    \n",
    "    # Запоминаем точность для эпохи\n",
    "    train_correct.append(correct)\n",
    "    print(f'\\nEpoch {epoch} Result, Loss: {running_loss/len(train_loader):.4f}, Accuracy: {correct/total:.4f}, time: {time.time() - start_time:.2} sec\\n')\n",
    "\n",
    "    # Оценка модели на тестовых данных\n",
    "    with torch.no_grad():\n",
    "        predictions = model(X_test_tensor)\n",
    "        predicted = torch.max(predictions.data, 1)[1]\n",
    "        correct = (predicted == y_test_tensor).sum().item()\n",
    "        accuracy = correct / y_test_tensor.size(0)\n",
    "        \n",
    "        # Запоминаем точность для тестовой выборки для эпохи\n",
    "        test_correct.append(correct)\n",
    "        print(f'Epoch {epoch} Test Accuracy: {accuracy:.4f}\\n')\n",
    "    "
   ],
   "id": "d1e1232d275342d5",
   "outputs": [
    {
     "name": "stdout",
     "output_type": "stream",
     "text": [
      "Epoch: 1 Batch: 100 [  6400/60000] Train loss: 0.48973677 Train accuracy:  0.8438\n",
      "Epoch: 1 Batch: 200 [ 12800/60000] Train loss: 0.30091932 Train accuracy:  0.9062\n",
      "Epoch: 1 Batch: 300 [ 19200/60000] Train loss: 0.36007732 Train accuracy:  0.9219\n",
      "Epoch: 1 Batch: 400 [ 25600/60000] Train loss: 0.26046872 Train accuracy:  0.9375\n",
      "Epoch: 1 Batch: 500 [ 32000/60000] Train loss: 0.60698223 Train accuracy:  0.8125\n",
      "Epoch: 1 Batch: 600 [ 38400/60000] Train loss: 0.28539333 Train accuracy:  0.9062\n",
      "Epoch: 1 Batch: 700 [ 44800/60000] Train loss: 0.22594382 Train accuracy:  0.9375\n",
      "Epoch: 1 Batch: 800 [ 51200/60000] Train loss: 0.06283192 Train accuracy:  0.9844\n",
      "Epoch: 1 Batch: 900 [ 57600/60000] Train loss: 0.23090437 Train accuracy:  0.9531\n",
      "\n",
      "Epoch 1 Result, Loss: 0.4501, Accuracy: 0.8563, time: 3.6 sec\n",
      "\n",
      "Epoch 1 Test Accuracy: 0.9163\n",
      "\n",
      "Epoch: 2 Batch: 100 [  6400/60000] Train loss: 0.17017435 Train accuracy:  0.9531\n",
      "Epoch: 2 Batch: 200 [ 12800/60000] Train loss: 0.18560944 Train accuracy:  0.9531\n",
      "Epoch: 2 Batch: 300 [ 19200/60000] Train loss: 0.16621773 Train accuracy:  0.9375\n",
      "Epoch: 2 Batch: 400 [ 25600/60000] Train loss: 0.18904413 Train accuracy:  0.9375\n",
      "Epoch: 2 Batch: 500 [ 32000/60000] Train loss: 0.17735285 Train accuracy:  0.9219\n",
      "Epoch: 2 Batch: 600 [ 38400/60000] Train loss: 0.17341611 Train accuracy:  0.9531\n",
      "Epoch: 2 Batch: 700 [ 44800/60000] Train loss: 0.28744158 Train accuracy:  0.9219\n",
      "Epoch: 2 Batch: 800 [ 51200/60000] Train loss: 0.09653287 Train accuracy:  0.9688\n",
      "Epoch: 2 Batch: 900 [ 57600/60000] Train loss: 0.23832004 Train accuracy:  0.9375\n",
      "\n",
      "Epoch 2 Result, Loss: 0.1963, Accuracy: 0.9402, time: 3.3 sec\n",
      "\n",
      "Epoch 2 Test Accuracy: 0.9506\n",
      "\n",
      "Epoch: 3 Batch: 100 [  6400/60000] Train loss: 0.19079454 Train accuracy:  0.9531\n",
      "Epoch: 3 Batch: 200 [ 12800/60000] Train loss: 0.11725873 Train accuracy:  0.9531\n",
      "Epoch: 3 Batch: 300 [ 19200/60000] Train loss: 0.13944630 Train accuracy:  0.9375\n",
      "Epoch: 3 Batch: 400 [ 25600/60000] Train loss: 0.16583548 Train accuracy:  0.9375\n",
      "Epoch: 3 Batch: 500 [ 32000/60000] Train loss: 0.22134399 Train accuracy:  0.9375\n",
      "Epoch: 3 Batch: 600 [ 38400/60000] Train loss: 0.07844445 Train accuracy:  0.9688\n",
      "Epoch: 3 Batch: 700 [ 44800/60000] Train loss: 0.08958496 Train accuracy:  0.9688\n",
      "Epoch: 3 Batch: 800 [ 51200/60000] Train loss: 0.32158798 Train accuracy:  0.9062\n",
      "Epoch: 3 Batch: 900 [ 57600/60000] Train loss: 0.15832715 Train accuracy:  0.9375\n",
      "\n",
      "Epoch 3 Result, Loss: 0.1503, Accuracy: 0.9531, time: 3.3 sec\n",
      "\n",
      "Epoch 3 Test Accuracy: 0.9529\n",
      "\n",
      "Epoch: 4 Batch: 100 [  6400/60000] Train loss: 0.13017458 Train accuracy:  0.9375\n",
      "Epoch: 4 Batch: 200 [ 12800/60000] Train loss: 0.09428011 Train accuracy:  0.9688\n",
      "Epoch: 4 Batch: 300 [ 19200/60000] Train loss: 0.28504717 Train accuracy:  0.9219\n",
      "Epoch: 4 Batch: 400 [ 25600/60000] Train loss: 0.03702905 Train accuracy:  0.9844\n",
      "Epoch: 4 Batch: 500 [ 32000/60000] Train loss: 0.18750116 Train accuracy:  0.9688\n",
      "Epoch: 4 Batch: 600 [ 38400/60000] Train loss: 0.10827804 Train accuracy:  0.9531\n",
      "Epoch: 4 Batch: 700 [ 44800/60000] Train loss: 0.12868628 Train accuracy:  0.9844\n",
      "Epoch: 4 Batch: 800 [ 51200/60000] Train loss: 0.17657782 Train accuracy:  0.9375\n",
      "Epoch: 4 Batch: 900 [ 57600/60000] Train loss: 0.26307902 Train accuracy:  0.9531\n",
      "\n",
      "Epoch 4 Result, Loss: 0.1253, Accuracy: 0.9614, time: 3.1 sec\n",
      "\n",
      "Epoch 4 Test Accuracy: 0.9573\n",
      "\n",
      "Epoch: 5 Batch: 100 [  6400/60000] Train loss: 0.04649568 Train accuracy:  0.9844\n",
      "Epoch: 5 Batch: 200 [ 12800/60000] Train loss: 0.07408044 Train accuracy:  0.9688\n",
      "Epoch: 5 Batch: 300 [ 19200/60000] Train loss: 0.06919438 Train accuracy:  0.9688\n",
      "Epoch: 5 Batch: 400 [ 25600/60000] Train loss: 0.23008254 Train accuracy:  0.9688\n",
      "Epoch: 5 Batch: 500 [ 32000/60000] Train loss: 0.28208670 Train accuracy:  0.9219\n",
      "Epoch: 5 Batch: 600 [ 38400/60000] Train loss: 0.15875633 Train accuracy:  0.9531\n",
      "Epoch: 5 Batch: 700 [ 44800/60000] Train loss: 0.08170772 Train accuracy:  0.9844\n",
      "Epoch: 5 Batch: 800 [ 51200/60000] Train loss: 0.20105442 Train accuracy:  0.9375\n",
      "Epoch: 5 Batch: 900 [ 57600/60000] Train loss: 0.09233653 Train accuracy:  0.9844\n",
      "\n",
      "Epoch 5 Result, Loss: 0.1123, Accuracy: 0.9654, time: 3.1 sec\n",
      "\n",
      "Epoch 5 Test Accuracy: 0.9441\n",
      "\n",
      "Epoch: 6 Batch: 100 [  6400/60000] Train loss: 0.15658668 Train accuracy:  0.9688\n",
      "Epoch: 6 Batch: 200 [ 12800/60000] Train loss: 0.03840503 Train accuracy:  1.0000\n",
      "Epoch: 6 Batch: 300 [ 19200/60000] Train loss: 0.12760460 Train accuracy:  0.9531\n",
      "Epoch: 6 Batch: 400 [ 25600/60000] Train loss: 0.05624876 Train accuracy:  0.9844\n",
      "Epoch: 6 Batch: 500 [ 32000/60000] Train loss: 0.13376795 Train accuracy:  0.9531\n",
      "Epoch: 6 Batch: 600 [ 38400/60000] Train loss: 0.06887073 Train accuracy:  0.9688\n",
      "Epoch: 6 Batch: 700 [ 44800/60000] Train loss: 0.16291910 Train accuracy:  0.9688\n",
      "Epoch: 6 Batch: 800 [ 51200/60000] Train loss: 0.03185475 Train accuracy:  1.0000\n",
      "Epoch: 6 Batch: 900 [ 57600/60000] Train loss: 0.05885787 Train accuracy:  0.9688\n",
      "\n",
      "Epoch 6 Result, Loss: 0.0973, Accuracy: 0.9698, time: 3.0 sec\n",
      "\n",
      "Epoch 6 Test Accuracy: 0.9666\n",
      "\n",
      "Epoch: 7 Batch: 100 [  6400/60000] Train loss: 0.09341373 Train accuracy:  0.9844\n",
      "Epoch: 7 Batch: 200 [ 12800/60000] Train loss: 0.02618885 Train accuracy:  1.0000\n",
      "Epoch: 7 Batch: 300 [ 19200/60000] Train loss: 0.05571078 Train accuracy:  0.9688\n",
      "Epoch: 7 Batch: 400 [ 25600/60000] Train loss: 0.01730036 Train accuracy:  1.0000\n",
      "Epoch: 7 Batch: 500 [ 32000/60000] Train loss: 0.01699931 Train accuracy:  1.0000\n",
      "Epoch: 7 Batch: 600 [ 38400/60000] Train loss: 0.01714641 Train accuracy:  1.0000\n",
      "Epoch: 7 Batch: 700 [ 44800/60000] Train loss: 0.17942026 Train accuracy:  0.9531\n",
      "Epoch: 7 Batch: 800 [ 51200/60000] Train loss: 0.04868063 Train accuracy:  0.9844\n",
      "Epoch: 7 Batch: 900 [ 57600/60000] Train loss: 0.09511823 Train accuracy:  0.9688\n",
      "\n",
      "Epoch 7 Result, Loss: 0.0879, Accuracy: 0.9728, time: 3.0 sec\n",
      "\n",
      "Epoch 7 Test Accuracy: 0.9645\n",
      "\n",
      "Epoch: 8 Batch: 100 [  6400/60000] Train loss: 0.11945858 Train accuracy:  0.9688\n",
      "Epoch: 8 Batch: 200 [ 12800/60000] Train loss: 0.05704930 Train accuracy:  0.9844\n",
      "Epoch: 8 Batch: 300 [ 19200/60000] Train loss: 0.02314719 Train accuracy:  1.0000\n",
      "Epoch: 8 Batch: 400 [ 25600/60000] Train loss: 0.15122631 Train accuracy:  0.9531\n",
      "Epoch: 8 Batch: 500 [ 32000/60000] Train loss: 0.05944600 Train accuracy:  0.9688\n",
      "Epoch: 8 Batch: 600 [ 38400/60000] Train loss: 0.12898935 Train accuracy:  0.9531\n",
      "Epoch: 8 Batch: 700 [ 44800/60000] Train loss: 0.06354147 Train accuracy:  0.9688\n",
      "Epoch: 8 Batch: 800 [ 51200/60000] Train loss: 0.08342461 Train accuracy:  0.9688\n",
      "Epoch: 8 Batch: 900 [ 57600/60000] Train loss: 0.15281147 Train accuracy:  0.9531\n",
      "\n",
      "Epoch 8 Result, Loss: 0.0801, Accuracy: 0.9743, time: 3.1 sec\n",
      "\n",
      "Epoch 8 Test Accuracy: 0.9689\n",
      "\n",
      "Epoch: 9 Batch: 100 [  6400/60000] Train loss: 0.18697245 Train accuracy:  0.9219\n",
      "Epoch: 9 Batch: 200 [ 12800/60000] Train loss: 0.02408486 Train accuracy:  0.9844\n",
      "Epoch: 9 Batch: 300 [ 19200/60000] Train loss: 0.09307878 Train accuracy:  0.9688\n",
      "Epoch: 9 Batch: 400 [ 25600/60000] Train loss: 0.07128763 Train accuracy:  0.9531\n",
      "Epoch: 9 Batch: 500 [ 32000/60000] Train loss: 0.03156334 Train accuracy:  0.9844\n",
      "Epoch: 9 Batch: 600 [ 38400/60000] Train loss: 0.25126529 Train accuracy:  0.9219\n",
      "Epoch: 9 Batch: 700 [ 44800/60000] Train loss: 0.13159141 Train accuracy:  0.9688\n",
      "Epoch: 9 Batch: 800 [ 51200/60000] Train loss: 0.19401994 Train accuracy:  0.9844\n",
      "Epoch: 9 Batch: 900 [ 57600/60000] Train loss: 0.04415798 Train accuracy:  0.9844\n",
      "\n",
      "Epoch 9 Result, Loss: 0.0751, Accuracy: 0.9759, time: 3.0 sec\n",
      "\n",
      "Epoch 9 Test Accuracy: 0.9667\n",
      "\n",
      "Epoch: 10 Batch: 100 [  6400/60000] Train loss: 0.06730818 Train accuracy:  0.9688\n",
      "Epoch: 10 Batch: 200 [ 12800/60000] Train loss: 0.13145682 Train accuracy:  0.9375\n",
      "Epoch: 10 Batch: 300 [ 19200/60000] Train loss: 0.09726819 Train accuracy:  0.9531\n",
      "Epoch: 10 Batch: 400 [ 25600/60000] Train loss: 0.03770899 Train accuracy:  0.9844\n",
      "Epoch: 10 Batch: 500 [ 32000/60000] Train loss: 0.05316767 Train accuracy:  0.9844\n",
      "Epoch: 10 Batch: 600 [ 38400/60000] Train loss: 0.14883624 Train accuracy:  0.9844\n",
      "Epoch: 10 Batch: 700 [ 44800/60000] Train loss: 0.10585576 Train accuracy:  0.9531\n",
      "Epoch: 10 Batch: 800 [ 51200/60000] Train loss: 0.12949592 Train accuracy:  0.9531\n",
      "Epoch: 10 Batch: 900 [ 57600/60000] Train loss: 0.03465980 Train accuracy:  1.0000\n",
      "\n",
      "Epoch 10 Result, Loss: 0.0691, Accuracy: 0.9777, time: 3.0 sec\n",
      "\n",
      "Epoch 10 Test Accuracy: 0.9387\n",
      "\n"
     ]
    }
   ],
   "execution_count": 160
  },
  {
   "metadata": {},
   "cell_type": "markdown",
   "source": "*5. Прогноз*",
   "id": "240a488fc7e8c54"
  },
  {
   "metadata": {
    "ExecuteTime": {
     "end_time": "2025-04-07T12:30:37.289457Z",
     "start_time": "2025-04-07T12:30:37.280937Z"
    }
   },
   "cell_type": "code",
   "source": [
    "# Прогноз для последних 10 изображений\n",
    "with torch.no_grad():\n",
    "    last_10 = X_test_tensor[-10:]\n",
    "    predictions = model(last_10)\n",
    "    _, predicted = torch.max(predictions, 1)\n",
    "    print(\"Pred labels: \", predicted.numpy())\n",
    "    print(\"True labels: \", y_test_tensor.numpy()[-10:])"
   ],
   "id": "6d45c127f71ee2de",
   "outputs": [
    {
     "name": "stdout",
     "output_type": "stream",
     "text": [
      "Pred labels:  [7 8 9 0 1 2 3 4 5 6]\n",
      "True labels:  [7 8 9 0 1 2 3 4 5 6]\n"
     ]
    }
   ],
   "execution_count": 146
  },
  {
   "metadata": {},
   "cell_type": "code",
   "outputs": [],
   "execution_count": null,
   "source": "",
   "id": "b4cbff00f723d750"
  }
 ],
 "metadata": {
  "kernelspec": {
   "display_name": "Python 3",
   "language": "python",
   "name": "python3"
  },
  "language_info": {
   "codemirror_mode": {
    "name": "ipython",
    "version": 2
   },
   "file_extension": ".py",
   "mimetype": "text/x-python",
   "name": "python",
   "nbconvert_exporter": "python",
   "pygments_lexer": "ipython2",
   "version": "2.7.6"
  }
 },
 "nbformat": 4,
 "nbformat_minor": 5
}
